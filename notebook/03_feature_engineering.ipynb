{
 "cells": [
  {
   "cell_type": "code",
   "execution_count": 6,
   "id": "9661744e-8093-4808-a329-5edc824cb4c0",
   "metadata": {},
   "outputs": [],
   "source": [
    "import pandas as pd\n",
    "from sklearn.feature_extraction.text import TfidfVectorizer\n",
    "import joblib\n",
    "import scipy.sparse"
   ]
  },
  {
   "cell_type": "code",
   "execution_count": 7,
   "id": "723b4b8f-11af-41eb-96c8-c61b1a71f9fe",
   "metadata": {},
   "outputs": [],
   "source": [
    "df = pd.read_csv('../data/processed/cleaned_reviews.csv')"
   ]
  },
  {
   "cell_type": "code",
   "execution_count": 8,
   "id": "63604db1-e5ba-4eab-bab2-e55f83ebbe70",
   "metadata": {},
   "outputs": [
    {
     "data": {
      "text/html": [
       "<div>\n",
       "<style scoped>\n",
       "    .dataframe tbody tr th:only-of-type {\n",
       "        vertical-align: middle;\n",
       "    }\n",
       "\n",
       "    .dataframe tbody tr th {\n",
       "        vertical-align: top;\n",
       "    }\n",
       "\n",
       "    .dataframe thead th {\n",
       "        text-align: right;\n",
       "    }\n",
       "</style>\n",
       "<table border=\"1\" class=\"dataframe\">\n",
       "  <thead>\n",
       "    <tr style=\"text-align: right;\">\n",
       "      <th></th>\n",
       "      <th>product_name</th>\n",
       "      <th>description</th>\n",
       "      <th>overall_rating</th>\n",
       "      <th>brand</th>\n",
       "      <th>main_category</th>\n",
       "      <th>sentiment</th>\n",
       "    </tr>\n",
       "  </thead>\n",
       "  <tbody>\n",
       "    <tr>\n",
       "      <th>0</th>\n",
       "      <td>Ladela Bellies</td>\n",
       "      <td>key features of ladela bellies brand: ladela c...</td>\n",
       "      <td>5.0</td>\n",
       "      <td>Ladela</td>\n",
       "      <td>Footwear</td>\n",
       "      <td>positive</td>\n",
       "    </tr>\n",
       "    <tr>\n",
       "      <th>1</th>\n",
       "      <td>Bulaky vanity case Jewellery Vanity Case</td>\n",
       "      <td>buy bulaky vanity case jewellery vanity case f...</td>\n",
       "      <td>3.0</td>\n",
       "      <td>Unknown</td>\n",
       "      <td>Beauty and Personal Care</td>\n",
       "      <td>neutral</td>\n",
       "    </tr>\n",
       "    <tr>\n",
       "      <th>2</th>\n",
       "      <td>Roadster Men's Zipper Solid Cardigan</td>\n",
       "      <td>key features of roadster men's zipper solid ca...</td>\n",
       "      <td>3.6</td>\n",
       "      <td>Roadster</td>\n",
       "      <td>Clothing</td>\n",
       "      <td>neutral</td>\n",
       "    </tr>\n",
       "    <tr>\n",
       "      <th>3</th>\n",
       "      <td>Camerii WM64 Elegance Analog Watch  - For Men,...</td>\n",
       "      <td>camerii wm64 elegance analog watch  - for men,...</td>\n",
       "      <td>5.0</td>\n",
       "      <td>Unknown</td>\n",
       "      <td>Watches</td>\n",
       "      <td>positive</td>\n",
       "    </tr>\n",
       "    <tr>\n",
       "      <th>4</th>\n",
       "      <td>Colat COLAT_MW20 Sheen Analog Watch  - For Men...</td>\n",
       "      <td>colat colat_mw20 sheen analog watch  - for men...</td>\n",
       "      <td>5.0</td>\n",
       "      <td>Unknown</td>\n",
       "      <td>Watches</td>\n",
       "      <td>positive</td>\n",
       "    </tr>\n",
       "  </tbody>\n",
       "</table>\n",
       "</div>"
      ],
      "text/plain": [
       "                                        product_name  \\\n",
       "0                                     Ladela Bellies   \n",
       "1           Bulaky vanity case Jewellery Vanity Case   \n",
       "2               Roadster Men's Zipper Solid Cardigan   \n",
       "3  Camerii WM64 Elegance Analog Watch  - For Men,...   \n",
       "4  Colat COLAT_MW20 Sheen Analog Watch  - For Men...   \n",
       "\n",
       "                                         description  overall_rating  \\\n",
       "0  key features of ladela bellies brand: ladela c...             5.0   \n",
       "1  buy bulaky vanity case jewellery vanity case f...             3.0   \n",
       "2  key features of roadster men's zipper solid ca...             3.6   \n",
       "3  camerii wm64 elegance analog watch  - for men,...             5.0   \n",
       "4  colat colat_mw20 sheen analog watch  - for men...             5.0   \n",
       "\n",
       "      brand             main_category sentiment  \n",
       "0    Ladela                  Footwear  positive  \n",
       "1   Unknown  Beauty and Personal Care   neutral  \n",
       "2  Roadster                  Clothing   neutral  \n",
       "3   Unknown                   Watches  positive  \n",
       "4   Unknown                   Watches  positive  "
      ]
     },
     "execution_count": 8,
     "metadata": {},
     "output_type": "execute_result"
    }
   ],
   "source": [
    "df.head()"
   ]
  },
  {
   "cell_type": "code",
   "execution_count": 9,
   "id": "7daed2cc-986e-41f5-b0c9-1d8d86bc30b8",
   "metadata": {},
   "outputs": [],
   "source": [
    "df['text'] = df['product_name'].fillna('') + ' ' + df['description'].fillna('')"
   ]
  },
  {
   "cell_type": "code",
   "execution_count": 10,
   "id": "825dae59-4eab-4b36-9e23-bb6d845fb9dd",
   "metadata": {},
   "outputs": [],
   "source": [
    "vectorizer = TfidfVectorizer(\n",
    "    max_features=5000,\n",
    "    stop_words='english',\n",
    "    ngram_range=(1, 2)  \n",
    ")\n",
    "\n",
    "X = vectorizer.fit_transform(df['text'])"
   ]
  },
  {
   "cell_type": "code",
   "execution_count": 11,
   "id": "58e6d780-c413-4486-9a86-d5974e9ef5f1",
   "metadata": {},
   "outputs": [],
   "source": [
    "joblib.dump(vectorizer, '../data/processed/tfidf_vectorizer.joblib')\n",
    "scipy.sparse.save_npz('../data/processed/tfidf_features.npz', X)\n",
    "df['sentiment'].to_csv('../data/processed/labels.csv', index=False)"
   ]
  }
 ],
 "metadata": {
  "kernelspec": {
   "display_name": "Python 3 (ipykernel)",
   "language": "python",
   "name": "python3"
  },
  "language_info": {
   "codemirror_mode": {
    "name": "ipython",
    "version": 3
   },
   "file_extension": ".py",
   "mimetype": "text/x-python",
   "name": "python",
   "nbconvert_exporter": "python",
   "pygments_lexer": "ipython3",
   "version": "3.12.11"
  }
 },
 "nbformat": 4,
 "nbformat_minor": 5
}
