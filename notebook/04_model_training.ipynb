{
 "cells": [
  {
   "cell_type": "code",
   "execution_count": 2,
   "id": "89e78aee-a588-4e71-b1a8-31f6eb3ab4ef",
   "metadata": {},
   "outputs": [],
   "source": [
    "import pandas as pd\n",
    "import scipy.sparse\n",
    "import joblib\n",
    "from sklearn.model_selection import train_test_split\n",
    "from sklearn.preprocessing import LabelEncoder\n",
    "from sklearn.linear_model import LogisticRegression\n",
    "from sklearn.metrics import classification_report, confusion_matrix\n",
    "import matplotlib.pyplot as plt\n",
    "import seaborn as sns"
   ]
  },
  {
   "cell_type": "code",
   "execution_count": 3,
   "id": "7e8fb4cb-a9e1-49a3-b87b-4b56a18ad6b6",
   "metadata": {},
   "outputs": [],
   "source": [
    "# Load TF-IDF features and sentiment labels\n",
    "X = scipy.sparse.load_npz('../data/processed/tfidf_features.npz')\n",
    "y = pd.read_csv('../data/processed/labels.csv')['sentiment']"
   ]
  },
  {
   "cell_type": "code",
   "execution_count": 5,
   "id": "87aae5c3-32ea-4584-ab92-489a71256ad7",
   "metadata": {},
   "outputs": [
    {
     "data": {
      "text/plain": [
       "['../models/sentiment_label_encoder.joblib']"
      ]
     },
     "execution_count": 5,
     "metadata": {},
     "output_type": "execute_result"
    }
   ],
   "source": [
    "label_encoder = LabelEncoder()\n",
    "y_encoded = label_encoder.fit_transform(y)  # e.g., positive=2, neutral=1, negative=0\n",
    "\n",
    "# Save label encoder\n",
    "joblib.dump(label_encoder, '../models/sentiment_label_encoder.joblib')"
   ]
  },
  {
   "cell_type": "code",
   "execution_count": null,
   "id": "ca40dacd-c475-497a-97a3-9cf60e607c91",
   "metadata": {},
   "outputs": [],
   "source": []
  }
 ],
 "metadata": {
  "kernelspec": {
   "display_name": "Python 3 (ipykernel)",
   "language": "python",
   "name": "python3"
  },
  "language_info": {
   "codemirror_mode": {
    "name": "ipython",
    "version": 3
   },
   "file_extension": ".py",
   "mimetype": "text/x-python",
   "name": "python",
   "nbconvert_exporter": "python",
   "pygments_lexer": "ipython3",
   "version": "3.12.11"
  }
 },
 "nbformat": 4,
 "nbformat_minor": 5
}
